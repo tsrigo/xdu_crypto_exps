{
 "cells": [
  {
   "cell_type": "markdown",
   "metadata": {},
   "source": [
    "## Convert hex to base64\n",
    "The string:\n",
    "\n",
    "49276d206b696c6c696e6720796f757220627261696e206c696b65206120706f69736f6e6f7573206d757368726f6f6d\n",
    "\n",
    "Should produce:\n",
    "\n",
    "SSdtIGtpbGxpbmcgeW91ciBicmFpbiBsaWtlIGEgcG9pc29ub3VzIG11c2hyb29t"
   ]
  },
  {
   "cell_type": "markdown",
   "metadata": {},
   "source": [
    "Cryptopals Rule\n",
    "\n",
    "**Always operate on raw bytes, never on encoded strings. Only use hex and base64 for pretty-printing.**"
   ]
  },
  {
   "cell_type": "code",
   "execution_count": 1,
   "metadata": {
    "ExecuteTime": {
     "end_time": "2023-10-01T08:08:10.377406900Z",
     "start_time": "2023-10-01T08:08:10.124055200Z"
    }
   },
   "outputs": [],
   "source": [
    "import base64"
   ]
  },
  {
   "cell_type": "code",
   "execution_count": 2,
   "metadata": {
    "ExecuteTime": {
     "end_time": "2023-10-01T08:08:10.404681600Z",
     "start_time": "2023-10-01T08:08:10.138872600Z"
    }
   },
   "outputs": [],
   "source": [
    "def hex2base64(raw: str):\n",
    "    '''\n",
    "    >>> hex2base64('49276d206b696c6c696e6720796f757220627261696e206c696b65206120706f69736f6e6f7573206d757368726f6f6d')\n",
    "    SSdtIGtpbGxpbmcgeW91ciBicmFpbiBsaWtlIGEgcG9pc29ub3VzIG11c2hyb29t\n",
    "    '''\n",
    "    Str = ''.join([chr(int(raw[i:i+2], 16)) for i in range(0, len(raw), 2)])\n",
    "    print(Str)\n",
    "    return base64.b64encode(Str.encode()).decode()"
   ]
  },
  {
   "cell_type": "code",
   "execution_count": 31,
   "metadata": {
    "ExecuteTime": {
     "end_time": "2023-10-01T08:20:27.699837Z",
     "start_time": "2023-10-01T08:20:27.675682900Z"
    },
    "collapsed": false
   },
   "outputs": [
    {
     "name": "stdout",
     "output_type": "stream",
     "text": [
      "b'Hello world'\n"
     ]
    }
   ],
   "source": [
    "def base64_to_byte(base64_string):\n",
    "    return base64.b64decode(base64_string)\n",
    "\n",
    "base64_string = 'SGVsbG8gd29ybGQ='  # 这是\"Hello world\"的Base64编码\n",
    "byte_string = base64_to_byte(base64_string)\n",
    "print(byte_string)\n"
   ]
  },
  {
   "cell_type": "code",
   "execution_count": 3,
   "metadata": {
    "ExecuteTime": {
     "end_time": "2023-10-01T08:08:10.404681600Z",
     "start_time": "2023-10-01T08:08:10.152761600Z"
    }
   },
   "outputs": [],
   "source": [
    "def hex2ascii(raw: str):\n",
    "    '''\n",
    "    >>> hex2ascii('61616161616161616161616161616161616161616161616161616161616161616161)\n",
    "    aaaaaaaaaaaaaaaaaaaaaaaaaaaaaaaaaa\n",
    "    '''\n",
    "    return ''.join([chr(int(raw[i:i+2], 16)) for i in range(0, len(raw), 2)])"
   ]
  },
  {
   "cell_type": "code",
   "execution_count": 4,
   "metadata": {
    "ExecuteTime": {
     "end_time": "2023-10-01T08:08:10.405686800Z",
     "start_time": "2023-10-01T08:08:10.180405500Z"
    }
   },
   "outputs": [
    {
     "data": {
      "text/plain": [
       "'0a'"
      ]
     },
     "execution_count": 4,
     "metadata": {},
     "output_type": "execute_result"
    }
   ],
   "source": [
    "def ascii2hex(raw: str):\n",
    "    '''\n",
    "    >>> ascii2hex('aaaaaaaaaaaaaaaaaaaaaaaaaaaaaaaaaa')\n",
    "    61616161616161616161616161616161616161616161616161616161616161616161\n",
    "    >>> ascii2hex('\\n')\n",
    "    0a\n",
    "    '''\n",
    "    return ''.join([hex(ord(i))[2:].zfill(2) for i in raw])\n",
    "ascii2hex('\\n')"
   ]
  },
  {
   "cell_type": "code",
   "execution_count": 5,
   "metadata": {
    "ExecuteTime": {
     "end_time": "2023-10-01T08:08:10.405686800Z",
     "start_time": "2023-10-01T08:08:10.203701400Z"
    }
   },
   "outputs": [
    {
     "data": {
      "text/plain": [
       "'0c'"
      ]
     },
     "execution_count": 5,
     "metadata": {},
     "output_type": "execute_result"
    }
   ],
   "source": [
    "def getHex(raw: int):\n",
    "    tep = hex(raw)[2:]\n",
    "    if len(tep) == 1:\n",
    "        return '0' + tep\n",
    "    return tep\n",
    "getHex(int(ascii2hex('E'), 16) ^ int(ascii2hex('I'), 16))"
   ]
  },
  {
   "cell_type": "code",
   "execution_count": 6,
   "metadata": {
    "ExecuteTime": {
     "end_time": "2023-10-01T08:08:10.405686800Z",
     "start_time": "2023-10-01T08:08:10.231420900Z"
    }
   },
   "outputs": [
    {
     "name": "stdout",
     "output_type": "stream",
     "text": [
      "I'm killing your brain like a poisonous mushroom\n"
     ]
    },
    {
     "data": {
      "text/plain": [
       "'SSdtIGtpbGxpbmcgeW91ciBicmFpbiBsaWtlIGEgcG9pc29ub3VzIG11c2hyb29t'"
      ]
     },
     "execution_count": 6,
     "metadata": {},
     "output_type": "execute_result"
    }
   ],
   "source": [
    "hexStr = '49276d206b696c6c696e6720796f757220627261696e206c696b65206120706f69736f6e6f7573206d757368726f6f6d'\n",
    "hex2base64(hexStr)"
   ]
  },
  {
   "cell_type": "markdown",
   "metadata": {},
   "source": [
    "## Fixed XOR\n",
    "Write a function that takes two equal-length buffers and produces their XOR combination.\n",
    "\n",
    "If your function works properly, then when you feed it the string:\n",
    "\n",
    "1c0111001f010100061a024b53535009181c\n",
    "\n",
    "... after hex decoding, and when XOR'd against:\n",
    "\n",
    "686974207468652062756c6c277320657965\n",
    "\n",
    "... should produce:\n",
    "\n",
    "746865206b696420646f6e277420706c6179"
   ]
  },
  {
   "cell_type": "code",
   "execution_count": 6,
   "metadata": {
    "ExecuteTime": {
     "end_time": "2023-10-01T08:08:10.405686800Z",
     "start_time": "2023-10-01T08:08:10.243578Z"
    },
    "collapsed": false
   },
   "outputs": [],
   "source": []
  },
  {
   "cell_type": "code",
   "execution_count": 7,
   "metadata": {
    "ExecuteTime": {
     "end_time": "2023-10-01T08:08:10.406687Z",
     "start_time": "2023-10-01T08:08:10.263303700Z"
    }
   },
   "outputs": [
    {
     "data": {
      "text/plain": [
       "'746865206b696420646f6e277420706c6179'"
      ]
     },
     "execution_count": 7,
     "metadata": {},
     "output_type": "execute_result"
    }
   ],
   "source": [
    "def fixedXor(str1: str, str2: str) -> str:\n",
    "    '''\n",
    "    >>> fixedXor('1c0111001f010100061a024b53535009181c', '686974207468652062756c6c277320657965')\n",
    "    746865206b696420646f6e277420706c6179\n",
    "    '''\n",
    "    dec1 = [int(str1[i:i+2], 16) for i in range(0, len(str1), 2)]\n",
    "    dec2 = [int(str2[i:i+2], 16) for i in range(0, len(str2), 2)]\n",
    "    return ''.join([hex(i ^ j)[2:].zfill(2) for i,j in zip(dec1, dec2)])\n",
    "fixedXor('1c0111001f010100061a024b53535009181c', '686974207468652062756c6c277320657965')"
   ]
  },
  {
   "cell_type": "markdown",
   "metadata": {},
   "source": [
    "## Single-byte XOR cipher"
   ]
  },
  {
   "cell_type": "code",
   "execution_count": 8,
   "metadata": {
    "ExecuteTime": {
     "end_time": "2023-10-01T08:08:10.406687Z",
     "start_time": "2023-10-01T08:08:10.278048900Z"
    }
   },
   "outputs": [
    {
     "name": "stdout",
     "output_type": "stream",
     "text": [
      "\u001b77316?x\u0015\u001b+x413=x9x(7-6<x7>x:9;76\n"
     ]
    },
    {
     "data": {
      "text/plain": [
       "'Gzc3MzE2P3gVG38reDQxMz14OXgoNy02PHg3Png6OTs3Ng=='"
      ]
     },
     "execution_count": 8,
     "metadata": {},
     "output_type": "execute_result"
    }
   ],
   "source": [
    "raw = '1b37373331363f78151b7f2b783431333d78397828372d363c78373e783a393b3736'\n",
    "hex2base64(raw)"
   ]
  },
  {
   "cell_type": "code",
   "execution_count": 9,
   "metadata": {
    "ExecuteTime": {
     "end_time": "2023-10-01T08:08:10.406687Z",
     "start_time": "2023-10-01T08:08:10.307567600Z"
    }
   },
   "outputs": [],
   "source": [
    "import string\n"
   ]
  },
  {
   "cell_type": "code",
   "execution_count": 10,
   "metadata": {
    "ExecuteTime": {
     "end_time": "2023-10-01T08:08:10.408683700Z",
     "start_time": "2023-10-01T08:08:10.332543Z"
    }
   },
   "outputs": [
    {
     "data": {
      "text/plain": [
       "2.2632899999999996"
      ]
     },
     "execution_count": 10,
     "metadata": {},
     "output_type": "execute_result"
    }
   ],
   "source": [
    "latter_frequency = {\n",
    "    'a': .08167, 'b': .01492, 'c': .02782, 'd': .04253,\n",
    "        'e': .12702, 'f': .02228, 'g': .02015, 'h': .06094,\n",
    "        'i': .06094, 'j': .00153, 'k': .00772, 'l': .04025,\n",
    "        'm': .02406, 'n': .06749, 'o': .07507, 'p': .01929,\n",
    "        'q': .00095, 'r': .05987, 's': .06327, 't': .09056,\n",
    "        'u': .02758, 'v': .00978, 'w': .02360, 'x': .00150,\n",
    "        'y': .01974, 'z': .00074, ' ': .15000\n",
    "}\n",
    "\n",
    "def scoring(t):\n",
    "    '''\n",
    "    >>> scoring(\"Cooking MC's like a pound of bacon\")\n",
    "    2.2632899999999996\n",
    "    '''\n",
    "    return sum([latter_frequency.get(i,0) for i in t.lower()])  \n",
    "\n",
    "\n",
    "# 强烈谴责下面这种写法，漏掉了空格！ cnm\n",
    "def scoring2(raw: str):\n",
    "    letter = string.ascii_letters\n",
    "    cnt = 0\n",
    "    for i in raw:\n",
    "        if i in letter:\n",
    "            cnt += latter_frequency[i.lower()]\n",
    "    return cnt \n",
    "\n",
    "scoring(\"Cooking MC's like a pound of bacon\")"
   ]
  },
  {
   "cell_type": "code",
   "execution_count": 11,
   "metadata": {
    "ExecuteTime": {
     "end_time": "2023-10-01T08:08:10.408683700Z",
     "start_time": "2023-10-01T08:08:10.360303500Z"
    }
   },
   "outputs": [
    {
     "data": {
      "text/plain": [
       "(\"Cooking MC's like a pound of bacon\", 2.2632899999999996)"
      ]
     },
     "execution_count": 11,
     "metadata": {},
     "output_type": "execute_result"
    }
   ],
   "source": [
    "def findSingleXor(raw: str):\n",
    "    letter = string.ascii_letters\n",
    "    cmp = 0\n",
    "    returnAns = ''\n",
    "    for i in letter:\n",
    "        hh = ''.join([str(hex(ord(i))[2:]) for _ in range(len(raw)>>1)])\n",
    "        res = hex2ascii(fixedXor(hh, raw))\n",
    "        if scoring(res) > cmp:\n",
    "            cmp = scoring(res)\n",
    "            returnAns = res\n",
    "    return returnAns, cmp\n",
    "\n",
    "findSingleXor(raw)"
   ]
  },
  {
   "cell_type": "markdown",
   "metadata": {},
   "source": [
    "Cooking MC's like a pound of bacon"
   ]
  },
  {
   "cell_type": "code",
   "execution_count": 12,
   "metadata": {
    "ExecuteTime": {
     "end_time": "2023-10-01T08:08:10.722542500Z",
     "start_time": "2023-10-01T08:08:10.368834400Z"
    }
   },
   "outputs": [
    {
     "data": {
      "text/plain": [
       "(\"Cooking MC's like a pound of bacon\", 2.2632899999999996, 'X')"
      ]
     },
     "execution_count": 12,
     "metadata": {},
     "output_type": "execute_result"
    }
   ],
   "source": [
    "raw = '1b37373331363f78151b7f2b783431333d78397828372d363c78373e783a393b3736'\n",
    "\n",
    "def findSingleXor(raw: str):\n",
    "    letter = [chr(i) for i in range(255)]\n",
    "    cmp = 0\n",
    "    returnAns = ''\n",
    "    singleChar = ''\n",
    "    for i in letter:\n",
    "        hh = ''.join([str(hex(ord(i))[2:]) for _ in range(len(raw)>>1)])\n",
    "        res = hex2ascii(fixedXor(hh, raw))\n",
    "        if scoring(res) > cmp:\n",
    "            cmp = scoring(res)\n",
    "            returnAns = res\n",
    "            singleChar = i\n",
    "    return returnAns, cmp, singleChar\n",
    "\n",
    "findSingleXor(raw)"
   ]
  },
  {
   "cell_type": "code",
   "execution_count": 13,
   "metadata": {
    "ExecuteTime": {
     "end_time": "2023-10-01T08:08:20.548582900Z",
     "start_time": "2023-10-01T08:08:10.424514800Z"
    }
   },
   "outputs": [
    {
     "name": "stdout",
     "output_type": "stream",
     "text": [
      "The max score is the 170th str and the plaintext is Now that the party is jumping\n"
     ]
    }
   ],
   "source": [
    "# 打开文件\n",
    "with open('4.txt', 'r') as file:\n",
    "    # 读取每一行\n",
    "    lines = file.readlines()\n",
    "\n",
    "# 输出每一行\n",
    "minni = 0\n",
    "minn = 0\n",
    "minnstr = ''\n",
    "for i, line in enumerate(lines):\n",
    "    line = line[0:-1]\n",
    "    if (findSingleXor(line)[1] == 0):\n",
    "        continue\n",
    "    if (findSingleXor(line)[1] > minn):\n",
    "        minni = i\n",
    "        minnstr = findSingleXor(line)[0]\n",
    "        minn = findSingleXor(line)[1]\n",
    "print(\"The max score is the \" + str(minni) + \"th str and the plaintext is \" + minnstr)"
   ]
  },
  {
   "cell_type": "markdown",
   "metadata": {},
   "source": [
    "The max score of 170 is ('Now that the party is jumping\\n', 1.3847900000000002)\n"
   ]
  },
  {
   "cell_type": "code",
   "execution_count": 14,
   "metadata": {
    "ExecuteTime": {
     "end_time": "2023-10-01T08:08:20.564080300Z",
     "start_time": "2023-10-01T08:08:20.543918500Z"
    }
   },
   "outputs": [
    {
     "data": {
      "text/plain": [
       "'Now that the party is jumping\\n'"
      ]
     },
     "execution_count": 14,
     "metadata": {},
     "output_type": "execute_result"
    }
   ],
   "source": [
    "minnstr"
   ]
  },
  {
   "cell_type": "markdown",
   "metadata": {},
   "source": [
    "## Implement repeating-key XOR  "
   ]
  },
  {
   "cell_type": "code",
   "execution_count": 15,
   "metadata": {
    "ExecuteTime": {
     "end_time": "2023-10-01T08:08:20.689405400Z",
     "start_time": "2023-10-01T08:08:20.562091600Z"
    }
   },
   "outputs": [
    {
     "data": {
      "text/plain": [
       "'0b3637272a2b2e63622c2e69692a23693a2a3c6324202d623d63343c2a26226324272765272a282b2f20430a652e2c652a3124333a653e2b2027630c692b20283165286326302e27282f'"
      ]
     },
     "execution_count": 15,
     "metadata": {},
     "output_type": "execute_result"
    }
   ],
   "source": [
    "def repeatXor(raw: str, key: str):\n",
    "    '''\n",
    "    >>> repeatXor(\"Burning 'em, if you ain't quick and nimble\\nI go crazy when I hear a cymbal\", 'ICE')\n",
    "    0b3637272a2b2e63622c2e69692a23693a2a3c6324202d623d63343c2a26226324272765272a282b2f20430a652e2c652a3124333a653e2b2027630c692b20283165286326302e27282f\n",
    "    '''\n",
    "    key = (key * (int(len(raw) / len(key)) + 1))[:len(raw)]\n",
    "    return fixedXor(ascii2hex((raw)), ascii2hex(key))\n",
    "raw = \"\"\"Burning 'em, if you ain't quick and nimble\n",
    "I go crazy when I hear a cymbal\"\"\"\n",
    "key = 'ICE'\n",
    "repeatXor(raw, key)"
   ]
  },
  {
   "cell_type": "markdown",
   "metadata": {},
   "source": [
    "主要bug：没有考虑到使用hex()函数的时候，输出有可能是单个字符，这时候需要在前面补0\n",
    "涉及到两个函数: ascii2hex() 和 fixedXor()"
   ]
  },
  {
   "cell_type": "code",
   "execution_count": 16,
   "metadata": {
    "ExecuteTime": {
     "end_time": "2023-10-01T08:08:20.690406800Z",
     "start_time": "2023-10-01T08:08:20.592475400Z"
    }
   },
   "outputs": [
    {
     "data": {
      "text/plain": [
       "'0110000101100001'"
      ]
     },
     "execution_count": 16,
     "metadata": {},
     "output_type": "execute_result"
    }
   ],
   "source": [
    "def ascii2bin(raw: str):\n",
    "    '''\n",
    "    >>> ascii2bin('aa')\n",
    "    0110000101100001\n",
    "    '''\n",
    "    return ''.join([bin(ord(i))[2:].zfill(8) for i in raw])\n",
    "ascii2bin('aa')"
   ]
  },
  {
   "cell_type": "markdown",
   "metadata": {},
   "source": [
    "## Break repeating-key XOR"
   ]
  },
  {
   "cell_type": "code",
   "execution_count": 17,
   "metadata": {
    "ExecuteTime": {
     "end_time": "2023-10-01T08:08:20.690406800Z",
     "start_time": "2023-10-01T08:08:20.606240300Z"
    }
   },
   "outputs": [],
   "source": [
    "def hamming(raw1: str, raw2: str):\n",
    "    '''\n",
    "    >>> hamming('this is a test', 'wokka wokka!!!')\n",
    "    37\n",
    "    '''\n",
    "    bias = 0\n",
    "    if (len(raw1) > len(raw2)):\n",
    "        bias = len(raw1) - len((raw2))\n",
    "        raw1 = raw1[:len(raw2)]\n",
    "    elif (len(raw1) < len(raw2)):\n",
    "        bias = len(raw2) - len((raw1))\n",
    "        raw2 = raw2[:len(raw1)]\n",
    "    raw1 = ascii2bin(raw1)\n",
    "    raw2 = ascii2bin(raw2)\n",
    "    return sum([raw1[i] != raw2[i] for i in range(len(raw1))])+bias"
   ]
  },
  {
   "cell_type": "code",
   "execution_count": 18,
   "metadata": {
    "ExecuteTime": {
     "end_time": "2023-10-01T08:08:20.691462100Z",
     "start_time": "2023-10-01T08:08:20.624342500Z"
    }
   },
   "outputs": [],
   "source": [
    "cipherFile = ''\n",
    "with open('6.txt', 'r') as file:\n",
    "    # 读取每一行\n",
    "    lines = file.readlines()\n",
    "for line in lines:\n",
    "    cipherFile += line[0:-1]\n",
    "strCipherFile = base64.b64decode(cipherFile).decode()"
   ]
  },
  {
   "cell_type": "code",
   "execution_count": 19,
   "metadata": {
    "ExecuteTime": {
     "end_time": "2023-10-01T08:08:20.693295Z",
     "start_time": "2023-10-01T08:08:20.637152300Z"
    }
   },
   "outputs": [
    {
     "data": {
      "text/plain": [
       "[(1.2, 5),\n",
       " (2.0, 3),\n",
       " (2.5, 2),\n",
       " (2.5384615384615383, 13),\n",
       " (2.6363636363636362, 11),\n",
       " (2.7, 20),\n",
       " (2.7777777777777777, 18),\n",
       " (2.8684210526315788, 38),\n",
       " (2.933333333333333, 15),\n",
       " (2.9411764705882355, 17),\n",
       " (3.0, 7),\n",
       " (3.0, 8),\n",
       " (3.0, 16),\n",
       " (3.0476190476190474, 21),\n",
       " (3.096774193548387, 31),\n",
       " (3.108108108108108, 37),\n",
       " (3.1739130434782608, 23),\n",
       " (3.206896551724138, 29),\n",
       " (3.2142857142857144, 14),\n",
       " (3.24, 25),\n",
       " (3.25, 12),\n",
       " (3.257142857142857, 35),\n",
       " (3.272727272727273, 33),\n",
       " (3.3, 10),\n",
       " (3.3076923076923075, 39),\n",
       " (3.3157894736842106, 19),\n",
       " (3.323529411764706, 34),\n",
       " (3.375, 24),\n",
       " (3.4166666666666665, 36),\n",
       " (3.433333333333333, 30),\n",
       " (3.4375, 32),\n",
       " (3.4814814814814814, 27),\n",
       " (3.5, 4),\n",
       " (3.5, 26),\n",
       " (3.5357142857142856, 28),\n",
       " (3.5555555555555554, 9),\n",
       " (3.727272727272727, 22),\n",
       " (4.0, 6)]"
      ]
     },
     "execution_count": 19,
     "metadata": {},
     "output_type": "execute_result"
    }
   ],
   "source": [
    "candidate = []\n",
    "strCipherFile = base64.b64decode(cipherFile).decode()\n",
    "for KeySize in range(2, 40):\n",
    "    ss1 = strCipherFile[:KeySize]\n",
    "    ss2 = strCipherFile[KeySize: 2 * KeySize]\n",
    "    candidate.append((hamming(ss1, ss2)/KeySize, KeySize))\n",
    "sorted(candidate)"
   ]
  },
  {
   "cell_type": "code",
   "execution_count": 20,
   "metadata": {
    "ExecuteTime": {
     "end_time": "2023-10-01T08:08:20.848057700Z",
     "start_time": "2023-10-01T08:08:20.682628Z"
    }
   },
   "outputs": [
    {
     "name": "stdout",
     "output_type": "stream",
     "text": [
      "[(2.7471264367816093, 29), (2.9, 5), (3.0, 2), (3.0208333333333335, 24), (3.0714285714285716, 7), (3.0833333333333335, 6), (3.0964912280701755, 19), (3.1, 20), (3.111111111111111, 3), (3.125, 8), (3.1547619047619047, 28), (3.1777777777777776, 30), (3.181372549019608, 34), (3.185185185185185, 9), (3.1965811965811968, 39), (3.2, 10), (3.2058823529411766, 17), (3.2083333333333335, 16), (3.25, 18), (3.25, 26), (3.2522522522522523, 37), (3.2604166666666665, 32), (3.260869565217391, 23), (3.267543859649123, 38), (3.2777777777777777, 15), (3.287878787878788, 33), (3.3015873015873014, 21), (3.304761904761905, 35), (3.3118279569892475, 31), (3.313333333333333, 25), (3.3205128205128203, 13), (3.3333333333333335, 4), (3.3452380952380953, 14), (3.3456790123456788, 27), (3.3787878787878785, 22), (3.384259259259259, 36), (3.424242424242424, 11), (3.4583333333333335, 12), (3.5, 1)]\n"
     ]
    }
   ],
   "source": [
    "candidate = []\n",
    "strCipherFile = base64.b64decode(cipherFile).decode()\n",
    "for KeySize in range(1, 40):\n",
    "    ss1 = strCipherFile[:KeySize]\n",
    "    ss2 = strCipherFile[KeySize: 2 * KeySize]\n",
    "    ss3 = strCipherFile[2 * KeySize: 3 * KeySize]\n",
    "    ss4 = strCipherFile[3 * KeySize: 4 * KeySize]\n",
    "    # 计算所有可能的汉明距离\n",
    "    hamming_distances = [hamming(ss1, ss2), hamming(ss1, ss3), hamming(ss1, ss4), \n",
    "                    hamming(ss2, ss3), hamming(ss2, ss4), \n",
    "                    hamming(ss3, ss4)]\n",
    "    # 计算平均汉明距离\n",
    "    average_hamming_distance = sum(hamming_distances) / len(hamming_distances)\n",
    "\n",
    "    candidate.append(((average_hamming_distance/KeySize), KeySize))\n",
    "print(sorted(candidate))"
   ]
  },
  {
   "cell_type": "markdown",
   "metadata": {},
   "source": [
    "keysize 的候选值：5，3"
   ]
  },
  {
   "cell_type": "code",
   "execution_count": 21,
   "metadata": {
    "ExecuteTime": {
     "end_time": "2023-10-01T08:08:22.083252200Z",
     "start_time": "2023-10-01T08:08:20.698964Z"
    }
   },
   "outputs": [
    {
     "name": "stdout",
     "output_type": "stream",
     "text": [
      "nator X: Bring the noiseTermi\n"
     ]
    }
   ],
   "source": [
    "KeySize = 29\n",
    "strCipherFile = strCipherFile.zfill(2871+29)\n",
    "breakCipher = [strCipherFile[i:i + KeySize] for i in range(0, len(strCipherFile), KeySize)]\n",
    "transBreakCipher = [None for _ in range(len(breakCipher[0]))]\n",
    "for i in range(KeySize):\n",
    "    transBreakCipher[i] = ''.join([ss[i] for ss in breakCipher])\n",
    "\n",
    "key = ''\n",
    "for i in transBreakCipher:\n",
    "    key += findSingleXor(ascii2hex(i))[2]\n",
    "print(key)"
   ]
  },
  {
   "cell_type": "markdown",
   "metadata": {},
   "source": [
    "这里卡住了好一会，方向搞错了。。。我以为 findSingleXor 的结果应该是有特征的。。。但是它是又一列的字符构成的字符串，当然不会有规律了。。。重点是猜出这一位的 key，然后拼起来，最后用来解密密文，这时的结果才是有规律的。。。"
   ]
  },
  {
   "cell_type": "code",
   "execution_count": 22,
   "metadata": {
    "ExecuteTime": {
     "end_time": "2023-10-01T08:08:22.152495400Z",
     "start_time": "2023-10-01T08:08:22.079996400Z"
    }
   },
   "outputs": [
    {
     "name": "stdout",
     "output_type": "stream",
     "text": [
      "^QD_B\u0010h\n",
      "\u0010rBY^W\u0010DXU\u0010^_YCUI'm back and I'm ringin' the bell \n",
      "A rockin' on the mike while the fly girls yell \n",
      "In ecstasy in the back of me \n",
      "Well that's my DJ Deshay cuttin' all them Z's \n",
      "Hittin' hard and the girlies goin' crazy \n",
      "Vanilla's on the mike, man I'm not lazy. \n",
      "\n",
      "I'm lettin' my drug kick in \n",
      "It controls my mouth and I begin \n",
      "To just let it flow, let my concepts go \n",
      "My posse's to the side yellin', Go Vanilla Go! \n",
      "\n",
      "Smooth 'cause that's the way I will be \n",
      "And if you don't give a damn, then \n",
      "Why you starin' at me \n",
      "So get off 'cause I control the stage \n",
      "There's no dissin' allowed \n",
      "I'm in my own phase \n",
      "The girlies sa y they love me and that is ok \n",
      "And I can dance better than any kid n' play \n",
      "\n",
      "Stage 2 -- Yea the one ya' wanna listen to \n",
      "It's off my head so let the beat play through \n",
      "So I can funk it up and make it sound good \n",
      "1-2-3 Yo -- Knock on some wood \n",
      "For good luck, I like my rhymes atrocious \n",
      "Supercalafragilisticexpialidocious \n",
      "I'm an effect and that you can bet \n",
      "I can take a fly girl and make her wet. \n",
      "\n",
      "I'm like Samson -- Samson to Delilah \n",
      "There's no denyin', You can try to hang \n",
      "But you'll keep tryin' to get my style \n",
      "Over and over, practice makes perfect \n",
      "But not if you're a loafer. \n",
      "\n",
      "You'll get nowhere, no place, no time, no girls \n",
      "Soon -- Oh my God, homebody, you probably eat \n",
      "Spaghetti with a spoon! Come on and say it! \n",
      "\n",
      "VIP. Vanilla Ice yep, yep, I'm comin' hard like a rhino \n",
      "Intoxicating so you stagger like a wino \n",
      "So punks stop trying and girl stop cryin' \n",
      "Vanilla Ice is sellin' and you people are buyin' \n",
      "'Cause why the freaks are jockin' like Crazy Glue \n",
      "Movin' and groovin' trying to sing along \n",
      "All through the ghetto groovin' this here song \n",
      "Now you're amazed by the VIP posse. \n",
      "\n",
      "Steppin' so hard like a German Nazi \n",
      "Startled by the bases hittin' ground \n",
      "There's no trippin' on mine, I'm just gettin' down \n",
      "Sparkamatic, I'm hangin' tight like a fanatic \n",
      "You trapped me once and I thought that \n",
      "You might have it \n",
      "So step down and lend me your ear \n",
      "'89 in my time! You, '90 is my year. \n",
      "\n",
      "You're weakenin' fast, YO! and I can tell it \n",
      "Your body's gettin' hot, so, so I can smell it \n",
      "So don't be mad and don't be sad \n",
      "'Cause the lyrics belong to ICE, You can call me Dad \n",
      "You're pitchin' a fit, so step back and endure \n",
      "Let the witch doctor, Ice, do the dance to cure \n",
      "So come up close and don't be square \n",
      "You wanna battle me -- Anytime, anywhere \n",
      "\n",
      "You thought that I was weak, Boy, you're dead wrong \n",
      "So come on, everybody and sing this song \n",
      "\n",
      "Say -- Play that funky music Say, go white boy, go white boy go \n",
      "play that funky music Go white boy, go white boy, go \n",
      "Lay down and boogie and play that funky music till you die. \n",
      "\n",
      "Play that funky music Come on, Come on, let me hear \n",
      "Play that funky music white boy you say it, say it \n",
      "Play that funky music A little louder now \n",
      "Play that funky music, white boy Come on, Come on, Come on \n",
      "Play that funky music \n"
     ]
    }
   ],
   "source": [
    "print(hex2ascii(repeatXor(strCipherFile, key)))"
   ]
  },
  {
   "cell_type": "markdown",
   "metadata": {},
   "source": [
    "## AES in ECB mode"
   ]
  },
  {
   "cell_type": "code",
   "execution_count": 23,
   "metadata": {
    "ExecuteTime": {
     "end_time": "2023-10-01T08:08:22.328299500Z",
     "start_time": "2023-10-01T08:08:22.103601200Z"
    }
   },
   "outputs": [],
   "source": [
    "from Crypto.Cipher import AES\n",
    "from Crypto.Util.Padding import pad, unpad\n",
    "\n",
    "def encrypt(raw: str, key: str) -> bytes:\n",
    "    \"\"\"Encrypt a string using AES-128 ECB mode\"\"\"\n",
    "    raw = pad(raw.encode(), 16)\n",
    "    cipher = AES.new(key.encode('utf-8'), AES.MODE_ECB)\n",
    "    return cipher.encrypt(raw)\n",
    "\n",
    "def decrypt(enc: bytes, key: str) -> str:\n",
    "    \"\"\"Decrypt a ciphertext using AES-128 ECB mode\"\"\"\n",
    "    cipher = AES.new(key.encode('utf-8'), AES.MODE_ECB)\n",
    "    return unpad(cipher.decrypt(enc), 16).decode()"
   ]
  },
  {
   "cell_type": "code",
   "execution_count": 35,
   "metadata": {
    "ExecuteTime": {
     "end_time": "2023-10-01T08:23:22.447043800Z",
     "start_time": "2023-10-01T08:23:22.414761700Z"
    }
   },
   "outputs": [
    {
     "name": "stdout",
     "output_type": "stream",
     "text": [
      "I'm back and I'm ringin' the bell \n",
      "A rockin' on the mike while the fly girls yell \n",
      "In ecstasy in the back of me \n",
      "Well that's my DJ Deshay cuttin' all them Z's \n",
      "Hittin' hard and the girlies goin' crazy \n",
      "Vanilla's on the mike, man I'm not lazy. \n",
      "\n",
      "I'm lettin' my drug kick in \n",
      "It controls my mouth and I begin \n",
      "To just let it flow, let my concepts go \n",
      "My posse's to the side yellin', Go Vanilla Go! \n",
      "\n",
      "Smooth 'cause that's the way I will be \n",
      "And if you don't give a damn, then \n",
      "Why you starin' at me \n",
      "So get off 'cause I control the stage \n",
      "There's no dissin' allowed \n",
      "I'm in my own phase \n",
      "The girlies sa y they love me and that is ok \n",
      "And I can dance better than any kid n' play \n",
      "\n",
      "Stage 2 -- Yea the one ya' wanna listen to \n",
      "It's off my head so let the beat play through \n",
      "So I can funk it up and make it sound good \n",
      "1-2-3 Yo -- Knock on some wood \n",
      "For good luck, I like my rhymes atrocious \n",
      "Supercalafragilisticexpialidocious \n",
      "I'm an effect and that you can bet \n",
      "I can take a fly girl and make her wet. \n",
      "\n",
      "I'm like Samson -- Samson to Delilah \n",
      "There's no denyin', You can try to hang \n",
      "But you'll keep tryin' to get my style \n",
      "Over and over, practice makes perfect \n",
      "But not if you're a loafer. \n",
      "\n",
      "You'll get nowhere, no place, no time, no girls \n",
      "Soon -- Oh my God, homebody, you probably eat \n",
      "Spaghetti with a spoon! Come on and say it! \n",
      "\n",
      "VIP. Vanilla Ice yep, yep, I'm comin' hard like a rhino \n",
      "Intoxicating so you stagger like a wino \n",
      "So punks stop trying and girl stop cryin' \n",
      "Vanilla Ice is sellin' and you people are buyin' \n",
      "'Cause why the freaks are jockin' like Crazy Glue \n",
      "Movin' and groovin' trying to sing along \n",
      "All through the ghetto groovin' this here song \n",
      "Now you're amazed by the VIP posse. \n",
      "\n",
      "Steppin' so hard like a German Nazi \n",
      "Startled by the bases hittin' ground \n",
      "There's no trippin' on mine, I'm just gettin' down \n",
      "Sparkamatic, I'm hangin' tight like a fanatic \n",
      "You trapped me once and I thought that \n",
      "You might have it \n",
      "So step down and lend me your ear \n",
      "'89 in my time! You, '90 is my year. \n",
      "\n",
      "You're weakenin' fast, YO! and I can tell it \n",
      "Your body's gettin' hot, so, so I can smell it \n",
      "So don't be mad and don't be sad \n",
      "'Cause the lyrics belong to ICE, You can call me Dad \n",
      "You're pitchin' a fit, so step back and endure \n",
      "Let the witch doctor, Ice, do the dance to cure \n",
      "So come up close and don't be square \n",
      "You wanna battle me -- Anytime, anywhere \n",
      "\n",
      "You thought that I was weak, Boy, you're dead wrong \n",
      "So come on, everybody and sing this song \n",
      "\n",
      "Say -- Play that funky music Say, go white boy, go white boy go \n",
      "play that funky music Go white boy, go white boy, go \n",
      "Lay down and boogie and play that funky music till you die. \n",
      "\n",
      "Play that funky music Come on, Come on, let me hear \n",
      "Play that funky music white boy you say it, say it \n",
      "Play that funky music A little louder now \n",
      "Play that funky music, white boy Come on, Come on, Come on \n",
      "Play that funky music \n",
      "\u0004\u0004\u0004\u0004\n"
     ]
    }
   ],
   "source": [
    "with open('7.txt', 'r') as file:\n",
    "    lines = file.readlines()\n",
    "\n",
    "cipherText = ''.join([i[:-1] for i in lines]) + 'H' # 原来的文件最后没有换行\n",
    "cipherText = base64.b64decode(cipherText)\n",
    "\n",
    "key = 'YELLOW SUBMARINE'\n",
    "\n",
    "cipher = AES.new(key.encode('utf-8'), AES.MODE_ECB)\n",
    "print(cipher.decrypt(cipherText).decode())"
   ]
  },
  {
   "cell_type": "markdown",
   "metadata": {},
   "source": [
    "## Detect AES in ECB mode"
   ]
  },
  {
   "cell_type": "code",
   "execution_count": 2,
   "metadata": {
    "ExecuteTime": {
     "end_time": "2023-10-01T08:08:22.352394800Z",
     "start_time": "2023-10-01T08:08:22.321864600Z"
    }
   },
   "outputs": [
    {
     "name": "stdout",
     "output_type": "stream",
     "text": [
      "[(7, 132), (10, 0), (10, 1), (10, 2), (10, 3), (10, 4), (10, 5), (10, 6), (10, 7), (10, 8), (10, 9), (10, 10), (10, 11), (10, 12), (10, 13), (10, 14), (10, 15), (10, 16), (10, 17), (10, 18), (10, 19), (10, 20), (10, 21), (10, 22), (10, 23), (10, 24), (10, 25), (10, 26), (10, 27), (10, 28), (10, 29), (10, 30), (10, 31), (10, 32), (10, 33), (10, 34), (10, 35), (10, 36), (10, 37), (10, 38), (10, 39), (10, 40), (10, 41), (10, 42), (10, 43), (10, 44), (10, 45), (10, 46), (10, 47), (10, 48), (10, 49), (10, 50), (10, 51), (10, 52), (10, 53), (10, 54), (10, 55), (10, 56), (10, 57), (10, 58), (10, 59), (10, 60), (10, 61), (10, 62), (10, 63), (10, 64), (10, 65), (10, 66), (10, 67), (10, 68), (10, 69), (10, 70), (10, 71), (10, 72), (10, 73), (10, 74), (10, 75), (10, 76), (10, 77), (10, 78), (10, 79), (10, 80), (10, 81), (10, 82), (10, 83), (10, 84), (10, 85), (10, 86), (10, 87), (10, 88), (10, 89), (10, 90), (10, 91), (10, 92), (10, 93), (10, 94), (10, 95), (10, 96), (10, 97), (10, 98), (10, 99), (10, 100), (10, 101), (10, 102), (10, 103), (10, 104), (10, 105), (10, 106), (10, 107), (10, 108), (10, 109), (10, 110), (10, 111), (10, 112), (10, 113), (10, 114), (10, 115), (10, 116), (10, 117), (10, 118), (10, 119), (10, 120), (10, 121), (10, 122), (10, 123), (10, 124), (10, 125), (10, 126), (10, 127), (10, 128), (10, 129), (10, 130), (10, 131), (10, 133), (10, 134), (10, 135), (10, 136), (10, 137), (10, 138), (10, 139), (10, 140), (10, 141), (10, 142), (10, 143), (10, 144), (10, 145), (10, 146), (10, 147), (10, 148), (10, 149), (10, 150), (10, 151), (10, 152), (10, 153), (10, 154), (10, 155), (10, 156), (10, 157), (10, 158), (10, 159), (10, 160), (10, 161), (10, 162), (10, 163), (10, 164), (10, 165), (10, 166), (10, 167), (10, 168), (10, 169), (10, 170), (10, 171), (10, 172), (10, 173), (10, 174), (10, 175), (10, 176), (10, 177), (10, 178), (10, 179), (10, 180), (10, 181), (10, 182), (10, 183), (10, 184), (10, 185), (10, 186), (10, 187), (10, 188), (10, 189), (10, 190), (10, 191), (10, 192), (10, 193), (10, 194), (10, 195), (10, 196), (10, 197), (10, 198), (10, 199), (10, 200), (10, 201), (10, 202), (10, 203)]\n"
     ]
    }
   ],
   "source": [
    "with open('8.txt', 'r') as file:\n",
    "    lines = file.readlines()\n",
    "\n",
    "lines = [i[:-1] for i in lines]\n",
    "# 16 bytes == 16 hex values -> length of 32\n",
    "splitLines = [set([ss[i:i+32] for i in range(0, len(ss), 32)]) for ss in lines]\n",
    "print(sorted([(len(hh), i) for i, hh in enumerate(splitLines)]))"
   ]
  },
  {
   "cell_type": "code",
   "execution_count": 3,
   "metadata": {},
   "outputs": [
    {
     "name": "stdout",
     "output_type": "stream",
     "text": [
      "d880619740a8a19b7840a8a31c810a3d08649af70dc06f4fd5d2d69c744cd283e2dd052f6b641dbf9d11b0348542bb5708649af70dc06f4fd5d2d69c744cd2839475c9dfdbc1d46597949d9c7e82bf5a08649af70dc06f4fd5d2d69c744cd28397a93eab8d6aecd566489154789a6b0308649af70dc06f4fd5d2d69c744cd283d403180c98c8f6db1f2a3f9c4040deb0ab51b29933f2c123c58386b06fba186a\n"
     ]
    }
   ],
   "source": [
    "print(lines[132])"
   ]
  },
  {
   "cell_type": "code",
   "execution_count": 26,
   "metadata": {
    "ExecuteTime": {
     "end_time": "2023-10-01T08:08:22.353395600Z",
     "start_time": "2023-10-01T08:08:22.337703800Z"
    }
   },
   "outputs": [
    {
     "name": "stdout",
     "output_type": "stream",
     "text": [
      "[(7, 132), (10, 0), (10, 1), (10, 2), (10, 3), (10, 4), (10, 5), (10, 6), (10, 7), (10, 8), (10, 9), (10, 10), (10, 11), (10, 12), (10, 13), (10, 14), (10, 15), (10, 16), (10, 17), (10, 18), (10, 19), (10, 20), (10, 21), (10, 22), (10, 23), (10, 24), (10, 25), (10, 26), (10, 27), (10, 28), (10, 29), (10, 30), (10, 31), (10, 32), (10, 33), (10, 34), (10, 35), (10, 36), (10, 37), (10, 38), (10, 39), (10, 40), (10, 41), (10, 42), (10, 43), (10, 44), (10, 45), (10, 46), (10, 47), (10, 48), (10, 49), (10, 50), (10, 51), (10, 52), (10, 53), (10, 54), (10, 55), (10, 56), (10, 57), (10, 58), (10, 59), (10, 60), (10, 61), (10, 62), (10, 63), (10, 64), (10, 65), (10, 66), (10, 67), (10, 68), (10, 69), (10, 70), (10, 71), (10, 72), (10, 73), (10, 74), (10, 75), (10, 76), (10, 77), (10, 78), (10, 79), (10, 80), (10, 81), (10, 82), (10, 83), (10, 84), (10, 85), (10, 86), (10, 87), (10, 88), (10, 89), (10, 90), (10, 91), (10, 92), (10, 93), (10, 94), (10, 95), (10, 96), (10, 97), (10, 98), (10, 99), (10, 100), (10, 101), (10, 102), (10, 103), (10, 104), (10, 105), (10, 106), (10, 107), (10, 108), (10, 109), (10, 110), (10, 111), (10, 112), (10, 113), (10, 114), (10, 115), (10, 116), (10, 117), (10, 118), (10, 119), (10, 120), (10, 121), (10, 122), (10, 123), (10, 124), (10, 125), (10, 126), (10, 127), (10, 128), (10, 129), (10, 130), (10, 131), (10, 133), (10, 134), (10, 135), (10, 136), (10, 137), (10, 138), (10, 139), (10, 140), (10, 141), (10, 142), (10, 143), (10, 144), (10, 145), (10, 146), (10, 147), (10, 148), (10, 149), (10, 150), (10, 151), (10, 152), (10, 153), (10, 154), (10, 155), (10, 156), (10, 157), (10, 158), (10, 159), (10, 160), (10, 161), (10, 162), (10, 163), (10, 164), (10, 165), (10, 166), (10, 167), (10, 168), (10, 169), (10, 170), (10, 171), (10, 172), (10, 173), (10, 174), (10, 175), (10, 176), (10, 177), (10, 178), (10, 179), (10, 180), (10, 181), (10, 182), (10, 183), (10, 184), (10, 185), (10, 186), (10, 187), (10, 188), (10, 189), (10, 190), (10, 191), (10, 192), (10, 193), (10, 194), (10, 195), (10, 196), (10, 197), (10, 198), (10, 199), (10, 200), (10, 201), (10, 202), (10, 203)]\n"
     ]
    }
   ],
   "source": [
    "print(sorted([(len(hh), i) for i, hh in enumerate(splitLines)]))"
   ]
  }
 ],
 "metadata": {
  "kernelspec": {
   "display_name": "base",
   "language": "python",
   "name": "python3"
  },
  "language_info": {
   "codemirror_mode": {
    "name": "ipython",
    "version": 3
   },
   "file_extension": ".py",
   "mimetype": "text/x-python",
   "name": "python",
   "nbconvert_exporter": "python",
   "pygments_lexer": "ipython3",
   "version": "3.10.9"
  },
  "orig_nbformat": 4
 },
 "nbformat": 4,
 "nbformat_minor": 2
}
