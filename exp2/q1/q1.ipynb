{
 "cells": [
  {
   "cell_type": "markdown",
   "metadata": {},
   "source": [
    "# 1 求未知数字"
   ]
  },
  {
   "cell_type": "code",
   "execution_count": null,
   "metadata": {},
   "outputs": [],
   "source": [
    "w = [7, 3, 1] * 10\n",
    "letter2num = {chr(ord('A') + i): i+10 for i in range(26)}\n",
    "letter2num.update({str(i): i for i in range(9)})\n",
    "letter2num['<'] = 0\n",
    "letter2num"
   ]
  },
  {
   "cell_type": "code",
   "execution_count": null,
   "metadata": {},
   "outputs": [],
   "source": [
    "# 计算校验和\n",
    "# 12345678<8<<<1110182<111116?<<<<<<<<<<<<<<<4\n",
    "s = \"12345678<8<<<1110182<111116\"\n",
    "\n",
    "for guess in range(9):\n",
    "    teps = s + str(guess)\n",
    "    checksum = 0\n",
    "    for idx, ch in enumerate(teps):\n",
    "        checksum += letter2num[ch] * w[idx]\n",
    "    checksum = checksum % 10\n",
    "    if checksum == 4:\n",
    "        print(guess)\n",
    "\n",
    "# 结果是 7"
   ]
  },
  {
   "cell_type": "markdown",
   "metadata": {},
   "source": [
    "# 2 求key"
   ]
  },
  {
   "cell_type": "code",
   "execution_count": null,
   "metadata": {},
   "outputs": [],
   "source": [
    "import codecs\n",
    "from hashlib import sha1\n",
    "import base64\n",
    "import binascii\n",
    "from Crypto.Cipher import AES\n",
    "\n",
    "def cal_Kseed() -> str:\n",
    "    MRZ_information = \"12345678<811101821111167\"  # 护照信息\n",
    "    H_information = sha1(MRZ_information.encode()).hexdigest()  # 使用SHA1进行哈希\n",
    "    K_seed = H_information[0:32]  # 取哈希值的前32位作为K_seed\n",
    "    return K_seed\n",
    "\n",
    "def cal_Ka_Kb(K_seed):\n",
    "    c = \"00000001\"\n",
    "    d = K_seed + c\n",
    "    H_d = sha1(codecs.decode(d, \"hex\")).hexdigest()  # 对K_seed进行哈希\n",
    "    ka = H_d[0:16]  # 取前16位作为ka\n",
    "    kb = H_d[16:32]  # 取后16位作为kb\n",
    "    return ka, kb\n",
    "\n",
    "def Parity_Check(x):\n",
    "    k_list = []\n",
    "    a = bin(int(x, 16))[2:]  # 将16进制转为2进制\n",
    "    for i in range(0, len(a), 8):\n",
    "        # 7位一组分块，计算一个校验位，使1的个数为偶数\n",
    "        if (a[i:i + 7].count(\"1\")) % 2 == 0:\n",
    "            k_list.append(a[i:i + 7])\n",
    "            k_list.append('1')\n",
    "        else:\n",
    "            k_list.append(a[i:i + 7])\n",
    "            k_list.append('0')\n",
    "    k = hex(int(''.join(k_list), 2))  # 将2进制转为16进制\n",
    "    return k"
   ]
  },
  {
   "cell_type": "code",
   "execution_count": null,
   "metadata": {},
   "outputs": [],
   "source": [
    "ka, kb = cal_Ka_Kb(cal_Kseed())\n",
    "k1, k2 = Parity_Check(ka), Parity_Check(kb)\n",
    "key = k1[2:] + k2[2:]  # 合并k_1和k_2作为最终的密钥"
   ]
  },
  {
   "cell_type": "code",
   "execution_count": null,
   "metadata": {},
   "outputs": [],
   "source": [
    "ciphertext = base64.b64decode(\n",
    "    \"9MgYwmuPrjiecPMx61O6zIuy3MtIXQQ0E59T3xB6u0Gyf1gYs2i3K9Jxaa0zj4gTMazJuApwd6+jdyeI5iGHvhQyDHGVlAuYTgJrbFDrfB22Fpil2NfNnWFBTXyf7SDI\")\n",
    "IV = '0' * 32  # 初始化向量\n",
    "\n",
    "# 使用AES进行解密\n",
    "m = AES.new(binascii.unhexlify(key), AES.MODE_CBC, binascii.unhexlify(IV)).decrypt(ciphertext)\n",
    "print(m)  # 输出解密后的明文"
   ]
  }
 ],
 "metadata": {
  "kernelspec": {
   "display_name": "base",
   "language": "python",
   "name": "python3"
  },
  "language_info": {
   "codemirror_mode": {
    "name": "ipython",
    "version": 3
   },
   "file_extension": ".py",
   "mimetype": "text/x-python",
   "name": "python",
   "nbconvert_exporter": "python",
   "pygments_lexer": "ipython3",
   "version": "3.10.9"
  }
 },
 "nbformat": 4,
 "nbformat_minor": 2
}
